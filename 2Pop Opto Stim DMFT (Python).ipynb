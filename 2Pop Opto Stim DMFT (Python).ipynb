{
 "cells": [
  {
   "cell_type": "code",
   "execution_count": 1,
   "id": "bd353d9c",
   "metadata": {},
   "outputs": [],
   "source": [
    "import matplotlib.pyplot as plt\n",
    "import mpmath\n",
    "from numba import jit\n",
    "import numpy as np\n",
    "import scipy.integrate as integrate\n",
    "from scipy.interpolate import interp1d,interp2d,RegularGridInterpolator\n",
    "from scipy import stats\n",
    "import time"
   ]
  },
  {
   "cell_type": "code",
   "execution_count": 2,
   "id": "74180031",
   "metadata": {},
   "outputs": [],
   "source": [
    "sr2 = np.sqrt(2)\n",
    "sr2π = np.sqrt(2*np.pi)"
   ]
  },
  {
   "cell_type": "markdown",
   "id": "ad302db3",
   "metadata": {},
   "source": [
    "# Rate Moment Calculator"
   ]
  },
  {
   "cell_type": "code",
   "execution_count": 3,
   "id": "98d4ce44",
   "metadata": {},
   "outputs": [],
   "source": [
    "class RateCalc:\n",
    "    def Φ(self, μ: float) -> float:\n",
    "        pass\n",
    "    \n",
    "    def M(self, μ: float, σ: float) -> float:\n",
    "        pass\n",
    "    \n",
    "    def C(self, μ: float, σ: float, ρ: float) -> float:\n",
    "        pass"
   ]
  },
  {
   "cell_type": "code",
   "execution_count": 4,
   "id": "4daf5ed7",
   "metadata": {},
   "outputs": [],
   "source": [
    "def μtox(μ: float) -> float:\n",
    "    return np.sign(μ/100-0.2)*np.abs(μ/100-0.2)**0.5\n",
    "\n",
    "def xtoμ(x: float) -> float:\n",
    "    return 100*(np.sign(x)*np.abs(x)**2.0+0.2)"
   ]
  },
  {
   "cell_type": "code",
   "execution_count": 5,
   "id": "960304f9",
   "metadata": {},
   "outputs": [],
   "source": [
    "class RicciardiCalc(RateCalc):\n",
    "    def __init__(self, θ: float, Vr: float, σn: float, τs: float, τr: float):\n",
    "        self.θ = θ\n",
    "        self.Vr = Vr\n",
    "        self.σn = σn\n",
    "        self.τs = τs\n",
    "        self.τr = τr\n",
    "        \n",
    "    def Φint(self, μ: float) -> float:\n",
    "        umax = (self.θ-μ)/self.σn\n",
    "        umin = (self.Vr-μ)/self.σn\n",
    "        if umin > 10:\n",
    "            return umax*np.exp(-umax**2)/self.τs\n",
    "        elif umin > -4:\n",
    "            return 1/(self.τr+self.τs*(0.5*np.pi*\\\n",
    "                                       (mpmath.fp.erfi(umax)-mpmath.fp.erfi(umin)) +\n",
    "                    umax**2*mpmath.fp.hyp2f2(1.0,1.0,1.5,2.0,umax**2) -\n",
    "                    umin**2*mpmath.fp.hyp2f2(1.0,1.0,1.5,2.0,umin**2)))\n",
    "        else:\n",
    "            return 1/(self.τr+self.τs*(np.log(abs(umin))-np.log(abs(umax)) +\n",
    "                    (0.25*umin**-2-0.1875*umin**-4+0.3125*umin**-6-\n",
    "                        0.8203125*umin**-8+2.953125*umin**-10) -\n",
    "                    (0.25*umax**-2-0.1875*umax**-4+0.3125*umax**-6-\n",
    "                        0.8203125*umax**-8+2.953125*umax**-10)))\n",
    "        \n",
    "    def Φitp(self):\n",
    "        xs = np.linspace(μtox(-1E3), μtox(1E5), 10**5+1)\n",
    "        μs = xtoμ(xs)\n",
    "        μs[0] = -1E8\n",
    "        μs[-1] = 1E8\n",
    "        Φs = np.zeros(len(μs))\n",
    "        for i, μ in enumerate(μs):\n",
    "            Φs[i] = self.Φint(μ)\n",
    "        self.Φitps = interp1d(μs, Φs, 'cubic')\n",
    "        \n",
    "    def Φ(self, μ: float) -> float:\n",
    "        return self.Φitps(np.asarray(μ))\n",
    "        \n",
    "    def Mint(self, μ: float, σ: float) -> float:\n",
    "        if np.isclose(σ,0.0):\n",
    "            return self.Φ(μ)\n",
    "        return integrate.quad(lambda x: np.exp(-0.5*x**2)/sr2π*self.Φ(μ+σ*x),-6,6)[0]\n",
    "    \n",
    "    def Mitp(self):\n",
    "        xs = np.linspace(μtox(-800.0), μtox(1000.0), 200+1)\n",
    "        μs = xtoμ(xs)\n",
    "        μs[0] = -1E7\n",
    "        μs[-1] = 1E7\n",
    "        σs = np.linspace(0.0, 60.0, 240+1)\n",
    "        Ms = np.zeros((len(σs),len(μs)))\n",
    "        for i, μ in enumerate(μs):\n",
    "            for j, σ in enumerate(σs):\n",
    "                Ms[j,i] = self.Mint(μ,σ)\n",
    "        self.Mitps = interp2d(μs, σs, Ms, 'cubic')\n",
    "        \n",
    "    def M(self, μ: float, σ: float) -> float:\n",
    "        return self.Mitps(np.asarray(μ),np.asarray(σ))\n",
    "    \n",
    "#     def Cint(self, μ1: float, μ2: float, σ1: float, σ2: float, ρ: float) -> float:\n",
    "#         if np.isclose(ρ, 0.0):\n",
    "#             return self.M(μ1,σ1)*self.M(μ2,σ2)\n",
    "#         c = 0.0\n",
    "#         if not np.isclose(σ1, 0.0) and not np.isclose(σ2, 0.0):\n",
    "#             c = np.sign(ρ)*min(np.abs(ρ)/(σ1*σ2),1)\n",
    "#         return integrate.quad(lambda x: np.exp(-0.5*x**2)/sr2π*\\\n",
    "#             self.M(μ1+np.sign(c)*σ1*np.sqrt(np.abs(c))*x,σ1*np.sqrt(1-np.abs(c)))*\\\n",
    "#             self.M(μ2+σ2*np.sqrt(np.abs(c))*x,σ2*np.sqrt(1-np.abs(c))),-6,6)[0]\n",
    "    \n",
    "    def Cint(self, μ: float, σ: float, ρ: float) -> float:\n",
    "        if np.isclose(ρ, 0.0):\n",
    "            return self.M(μ,σ)**2\n",
    "        c = 0.0\n",
    "        if not np.isclose(σ, 0.0):\n",
    "            c = np.sign(ρ)*min(np.abs(ρ)/σ**2,1)\n",
    "        return integrate.quad(lambda x: np.exp(-0.5*x**2)/sr2π*\\\n",
    "            self.M(μ+np.sign(c)*σ*np.sqrt(np.abs(c))*x,σ*np.sqrt(1-np.abs(c)))*\\\n",
    "            self.M(μ+σ*np.sqrt(np.abs(c))*x,σ*np.sqrt(1-np.abs(c))),-6,6)[0]\n",
    "    \n",
    "    def Citp(self):\n",
    "        xs = np.linspace(μtox(-400.0), μtox(200.0), 100+1)\n",
    "        μs = xtoμ(xs)\n",
    "        μs[0] = -1E6\n",
    "        μs[-1] = 1E6\n",
    "        σs = np.linspace(0.0, 60.0, 120+1)\n",
    "        cs = np.linspace(-0.1, 1.0, 11+1)\n",
    "        Cs = np.zeros((len(μs),len(σs),len(cs)))\n",
    "        for i, μ in enumerate(μs):\n",
    "            for j, σ in enumerate(σs):\n",
    "                for k, c in enumerate(cs):\n",
    "                    Cs[i,j,k] = self.Cint(μ,σ,σ**2*c)\n",
    "        self.Citps = RegularGridInterpolator([μs,σs,cs], Cs)\n",
    "    \n",
    "    def C(self, μ: float, σ: float, ρ: float) -> float:\n",
    "        c = np.zeros_like(ρ)\n",
    "        mask = np.invert(np.isclose(np.asarray(σ),0.0))\n",
    "        c[mask] = np.sign(np.asarray(ρ)[mask])*np.minimum(np.abs(np.asarray(ρ)[mask])/\\\n",
    "                                                   np.asarray(σ)[mask]**2,1)\n",
    "        return self.Citps(np.stack((μ,σ,c)).T)"
   ]
  },
  {
   "cell_type": "code",
   "execution_count": 6,
   "id": "9119ec54",
   "metadata": {},
   "outputs": [],
   "source": [
    "rcE = RicciardiCalc(20.0,10.0,10.0,0.02,0.002)\n",
    "rcI = RicciardiCalc(20.0,10.0,10.0,0.01,0.002)"
   ]
  },
  {
   "cell_type": "code",
   "execution_count": 7,
   "id": "def39358",
   "metadata": {},
   "outputs": [
    {
     "name": "stdout",
     "output_type": "stream",
     "text": [
      "2.9262479999999997\n"
     ]
    }
   ],
   "source": [
    "start = time.process_time()\n",
    "rcE.Φitp()\n",
    "rcI.Φitp()\n",
    "print(time.process_time()-start)\n",
    "del start"
   ]
  },
  {
   "cell_type": "code",
   "execution_count": 8,
   "id": "0f868bbf",
   "metadata": {},
   "outputs": [
    {
     "name": "stdout",
     "output_type": "stream",
     "text": [
      "861.6788479999999\n"
     ]
    }
   ],
   "source": [
    "start = time.process_time()\n",
    "rcE.Mitp()\n",
    "rcI.Mitp()\n",
    "print(time.process_time()-start)\n",
    "del start"
   ]
  },
  {
   "cell_type": "code",
   "execution_count": 9,
   "id": "c3f8e41a",
   "metadata": {},
   "outputs": [
    {
     "name": "stdout",
     "output_type": "stream",
     "text": [
      "2382.723553\n"
     ]
    }
   ],
   "source": [
    "start = time.process_time()\n",
    "rcE.Citp()\n",
    "rcI.Citp()\n",
    "print(time.process_time()-start)\n",
    "del start"
   ]
  },
  {
   "cell_type": "code",
   "execution_count": 10,
   "id": "fab3fe32",
   "metadata": {},
   "outputs": [
    {
     "data": {
      "image/png": "[encoded data removed]",
      "text/plain": [
       "<Figure size 432x288 with 1 Axes>"
      ]
     },
     "metadata": {
      "needs_background": "light"
     },
     "output_type": "display_data"
    }
   ],
   "source": [
    "μs = np.linspace(-50,500,1000)\n",
    "plt.plot(μs,rcE.Φ(μs),'r')\n",
    "plt.plot(μs,rcI.Φ(μs),'b')\n",
    "plt.xlim((μs[0],μs[-1]))\n",
    "plt.show()\n",
    "del μs"
   ]
  },
  {
   "cell_type": "markdown",
   "id": "1c59118b",
   "metadata": {},
   "source": [
    "# Opto-Stimulated Rate Moment Calculator"
   ]
  },
  {
   "cell_type": "code",
   "execution_count": 11,
   "id": "7101936c",
   "metadata": {},
   "outputs": [],
   "source": [
    "class OptoRateCalc:\n",
    "    def ΦL(self, μ: float) -> float:\n",
    "        pass\n",
    "    \n",
    "    def ML(self, μ: float, σ: float) -> float:\n",
    "        pass\n",
    "    \n",
    "    def CL(self, μ: float, σ: float, ρ: float) -> float:\n",
    "        pass\n",
    "    \n",
    "    def RL(self, μ1: float, μ2: float, σ1: float, σ2: float, ρ: float) -> float:\n",
    "        pass"
   ]
  },
  {
   "cell_type": "code",
   "execution_count": 12,
   "id": "4098b3f3",
   "metadata": {},
   "outputs": [],
   "source": [
    "class LogNormalOptoRateCalc(OptoRateCalc):\n",
    "    def __init__(self, rc, s: float, λL: float):\n",
    "        self.rc = rc\n",
    "        self.s = s\n",
    "        self.λL = λL\n",
    "        σ2 = np.log(1+s**2)\n",
    "        self.σ = np.sqrt(σ2)\n",
    "        self.μ = np.log(λL)-0.5*σ2\n",
    "        \n",
    "    def ΦLint(self, μ: float) -> float:\n",
    "        return integrate.quad(lambda x: np.exp(-0.5*((np.log(x)-self.μ)/self.σ)**2)/\\\n",
    "                              (sr2π*self.σ*x)*self.rc.Φ(μ+x),0,50*self.λL)[0]\n",
    "    \n",
    "    def ΦLitp(self):\n",
    "        xs = np.linspace(μtox(-1E3), μtox(1E5), 2*10**4+1)\n",
    "        μs = xtoμ(xs)\n",
    "        μs[0] = -1E8\n",
    "        μs[-1] = 2E7\n",
    "        ΦLs = np.zeros(len(μs))\n",
    "        for i, μ in enumerate(μs):\n",
    "            ΦLs[i] = self.ΦLint(μ)\n",
    "        self.ΦLitps = interp1d(μs, ΦLs, 'cubic')\n",
    "        \n",
    "    def ΦL(self, μ: float) -> float:\n",
    "        return self.ΦLitps(np.asarray(μ))\n",
    "        \n",
    "    def MLint(self, μ: float, σ: float) -> float:\n",
    "        if np.isclose(σ,0.0):\n",
    "            return self.ΦL(μ)\n",
    "        return integrate.quad(lambda x: np.exp(-0.5*((np.log(x)-self.μ)/self.σ)**2)/\\\n",
    "                              (sr2π*self.σ*x)*self.rc.M(μ+x,σ),0,50*self.λL)[0]\n",
    "    \n",
    "    def MLitp(self):\n",
    "        xs = np.linspace(μtox(-800.0), μtox(500.0), 150+1)\n",
    "        μs = xtoμ(xs)\n",
    "        μs[0] = -1E7\n",
    "        μs[-1] = 2E6\n",
    "        σs = np.linspace(0.0, 60.0, 240+1)\n",
    "        MLs = np.zeros((len(σs),len(μs)))\n",
    "        for i, μ in enumerate(μs):\n",
    "            for j, σ in enumerate(σs):\n",
    "                MLs[j,i] = self.MLint(μ,σ)\n",
    "        self.MLitps = interp2d(μs, σs, MLs, 'cubic')\n",
    "        \n",
    "    def ML(self, μ: float, σ: float) -> float:\n",
    "        return self.MLitps(np.asarray(μ),np.asarray(σ))\n",
    "    \n",
    "#     def CLint(self, μ1: float, μ2: float, σ1: float, σ2: float, ρ: float) -> float:\n",
    "#         if np.isclose(ρ, 0.0):\n",
    "#             return integrate.quad(lambda x: np.exp(-0.5*((np.log(x)-self.μ)/self.σ)**2)/\\\n",
    "#                                   (sr2π*self.σ*x)*self.rc.M(μ1+x,σ1)*self.rc.M(μ2+x,σ2),\n",
    "#                                   0,50*self.λL)[0]\n",
    "#         return integrate.quad(lambda x: np.exp(-0.5*((np.log(x)-self.μ)/self.σ)**2)/\\\n",
    "#                               (sr2π*self.σ*x)*self.rc.C(μ1+x,μ2+x,σ1,σ2,ρ),\n",
    "#                               0,50*self.λL)[0]\n",
    "    \n",
    "    def CLint(self, μ: float, σ: float, ρ: float) -> float:\n",
    "        if np.isclose(ρ, 0.0):\n",
    "            return integrate.quad(lambda x: np.exp(-0.5*((np.log(x)-self.μ)/self.σ)**2)/\\\n",
    "                                  (sr2π*self.σ*x)*self.rc.M(μ+x,σ)**2,0,50*self.λL)[0]\n",
    "        return integrate.quad(lambda x: np.exp(-0.5*((np.log(x)-self.μ)/self.σ)**2)/\\\n",
    "                              (sr2π*self.σ*x)*self.rc.C(μ+x,σ,ρ),0,50*self.λL)[0]\n",
    "    \n",
    "    def CLitp(self):\n",
    "        xs = np.linspace(μtox(-400.0), μtox(100.0), 80+1)\n",
    "        μs = xtoμ(xs)\n",
    "        μs[0] = -1E6\n",
    "        μs[-1] = 1E5\n",
    "        σs = np.linspace(0.0, 60.0, 120+1)\n",
    "        cs = np.linspace(0.0, 1.0, 10+1)\n",
    "        CLs = np.zeros((len(μs),len(σs),len(cs)))\n",
    "        for i, μ in enumerate(μs):\n",
    "            for j, σ in enumerate(σs):\n",
    "                for k, c in enumerate(cs):\n",
    "                    CLs[i,j,k] = self.CLint(μ,σ,σ**2*c)\n",
    "        self.CLitps = RegularGridInterpolator([μs,σs,cs], CLs)\n",
    "    \n",
    "    def CL(self, μ: float, σ: float, ρ: float) -> float:\n",
    "        c = np.zeros_like(ρ)\n",
    "        mask = np.invert(np.isclose(np.asarray(σ),0.0))\n",
    "        c[mask] = np.sign(np.asarray(ρ)[mask])*np.minimum(np.abs(np.asarray(ρ)[mask])/\\\n",
    "                                                   np.asarray(σ)[mask]**2,1)\n",
    "        return self.CLitps(np.stack((μ,σ,c)).T)\n",
    "    \n",
    "    def RLint(self, μ1: float, μ2: float, σ1: float, σ2: float, ρ: float) -> float:\n",
    "        if np.isclose(ρ, 0.0):\n",
    "            return self.rc.M(μ1,σ1)*self.ML(μ2,σ2)\n",
    "        c = 0.0\n",
    "        if not np.isclose(σ1, 0.0) and not np.isclose(σ2, 0.0):\n",
    "            c = np.sign(ρ)*min(np.abs(ρ)/(σ1*σ2),1)\n",
    "        return integrate.quad(lambda x: np.exp(-0.5*x**2)/sr2π*\\\n",
    "            self.rc.M(μ1+np.sign(c)*σ1*np.sqrt(np.abs(c))*x,σ1*np.sqrt(1-np.abs(c)))*\\\n",
    "            self.ML(μ2+σ2*np.sqrt(np.abs(c))*x,σ2*np.sqrt(1-np.abs(c))),-6,6)[0]\n",
    "    \n",
    "    def RL(self, μ1: float, μ2: float, σ1: float, σ2: float, ρ: float) -> float:\n",
    "        return self.RLint(μ1,μ2,σ1,σ2,ρ)"
   ]
  },
  {
   "cell_type": "code",
   "execution_count": 13,
   "id": "55da0ccf",
   "metadata": {},
   "outputs": [],
   "source": [
    "orcE = LogNormalOptoRateCalc(rcE,10.0**0.58,10.0**1.02)"
   ]
  },
  {
   "cell_type": "code",
   "execution_count": 14,
   "id": "a88436f1",
   "metadata": {},
   "outputs": [
    {
     "name": "stdout",
     "output_type": "stream",
     "text": [
      "1735.7755279999997\n"
     ]
    }
   ],
   "source": [
    "start = time.process_time()\n",
    "orcE.ΦLitp()\n",
    "print(time.process_time()-start)\n",
    "del start"
   ]
  },
  {
   "cell_type": "code",
   "execution_count": 15,
   "id": "32afcd23",
   "metadata": {},
   "outputs": [
    {
     "name": "stdout",
     "output_type": "stream",
     "text": [
      "821.4521239999995\n"
     ]
    }
   ],
   "source": [
    "start = time.process_time()\n",
    "orcE.MLitp()\n",
    "print(time.process_time()-start)\n",
    "del start"
   ]
  },
  {
   "cell_type": "code",
   "execution_count": 16,
   "id": "ba8f6499",
   "metadata": {},
   "outputs": [
    {
     "name": "stderr",
     "output_type": "stream",
     "text": [
      "/var/folders/sm/hlw5tfpd0p385cm1782mwjmh0000gq/T/ipykernel_6874/3875260711.py:61: IntegrationWarning: The maximum number of subdivisions (50) has been achieved.\n",
      "  If increasing the limit yields no improvement it is advised to analyze \n",
      "  the integrand in order to determine the difficulties.  If the position of a \n",
      "  local difficulty can be determined (singularity, discontinuity) one will \n",
      "  probably gain from splitting up the interval and calling the integrator \n",
      "  on the subranges.  Perhaps a special-purpose integrator should be used.\n",
      "  return integrate.quad(lambda x: np.exp(-0.5*((np.log(x)-self.μ)/self.σ)**2)/\\\n",
      "\n",
      "KeyboardInterrupt\n",
      "\n"
     ]
    }
   ],
   "source": [
    "start = time.process_time()\n",
    "orcE.CLitp()\n",
    "print(time.process_time()-start)\n",
    "del start"
   ]
  },
  {
   "cell_type": "code",
   "execution_count": null,
   "id": "a12f542b",
   "metadata": {},
   "outputs": [],
   "source": [
    "μs = np.linspace(-50,500,1000)\n",
    "plt.plot(μs,orcE.ΦL(μs),'r')\n",
    "plt.plot(μs,rcI.Φ(μs),'b')\n",
    "plt.xlim((μs[0],μs[-1]))\n",
    "plt.show()\n",
    "del μs"
   ]
  },
  {
   "cell_type": "code",
   "execution_count": null,
   "id": "4e5ee6d2",
   "metadata": {},
   "outputs": [],
   "source": []
  }
 ],
 "metadata": {
  "kernelspec": {
   "display_name": "Python 3 (ipykernel)",
   "language": "python",
   "name": "python3"
  },
  "language_info": {
   "codemirror_mode": {
    "name": "ipython",
    "version": 3
   },
   "file_extension": ".py",
   "mimetype": "text/x-python",
   "name": "python",
   "nbconvert_exporter": "python",
   "pygments_lexer": "ipython3",
   "version": "3.9.12"
  }
 },
 "nbformat": 4,
 "nbformat_minor": 5
}
